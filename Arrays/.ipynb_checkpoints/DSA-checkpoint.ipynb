{
 "cells": [
  {
   "cell_type": "markdown",
   "id": "fd72b4cb-8a95-4aa7-975d-85ec47cbde03",
   "metadata": {},
   "source": [
    "**Arrays**\n",
    "\n",
    "Problem\n",
    "![Problem](Screenshot_2.png)"
   ]
  },
  {
   "cell_type": "code",
   "execution_count": 1,
   "id": "2175f9f6-2eb9-4651-bdb2-112747500e2c",
   "metadata": {},
   "outputs": [
    {
     "name": "stdout",
     "output_type": "stream",
     "text": [
      "298\n",
      "320\n"
     ]
    }
   ],
   "source": [
    "stock_prices = [298, 305, 320, 301, 292]\n",
    "print(stock_prices[0])\n",
    "print(stock_prices[2])"
   ]
  },
  {
   "cell_type": "markdown",
   "id": "2973bb2a-71cf-44fe-8364-0b3b8fa14b98",
   "metadata": {},
   "source": [
    "![](Screenshot_1.png)\n",
    "How numbers (and arrays of them) are stored in RAM"
   ]
  },
  {
   "cell_type": "markdown",
   "id": "66045d72-a25f-4990-a3d7-a48cd7659b63",
   "metadata": {},
   "source": [
    "<p>Lookup by index = O(1)</p>\n",
    "<p>Lookup by value = O(n)</p>\n",
    "<p>Array traversal = O(n)</p>\n",
    "<p>Array insertion = O(n)</p>\n",
    "<p>Array deletion = O(n)</p>\n"
   ]
  },
  {
   "cell_type": "code",
   "execution_count": null,
   "id": "9254b8ff-19fe-47c9-9cd3-e44e62624070",
   "metadata": {},
   "outputs": [],
   "source": [
    "## Exercise - Arrays ##"
   ]
  }
 ],
 "metadata": {
  "kernelspec": {
   "display_name": "Python 3 (ipykernel)",
   "language": "python",
   "name": "python3"
  },
  "language_info": {
   "codemirror_mode": {
    "name": "ipython",
    "version": 3
   },
   "file_extension": ".py",
   "mimetype": "text/x-python",
   "name": "python",
   "nbconvert_exporter": "python",
   "pygments_lexer": "ipython3",
   "version": "3.11.7"
  }
 },
 "nbformat": 4,
 "nbformat_minor": 5
}
