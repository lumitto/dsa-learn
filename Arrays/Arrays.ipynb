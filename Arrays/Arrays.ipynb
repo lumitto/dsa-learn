{
 "cells": [
  {
   "cell_type": "markdown",
   "id": "fd72b4cb-8a95-4aa7-975d-85ec47cbde03",
   "metadata": {},
   "source": [
    "**Arrays**\n",
    "\n",
    "Problem\n",
    "\n",
    "![Problem](Screenshot_2.png)"
   ]
  },
  {
   "cell_type": "code",
   "execution_count": 1,
   "id": "2175f9f6-2eb9-4651-bdb2-112747500e2c",
   "metadata": {},
   "outputs": [
    {
     "name": "stdout",
     "output_type": "stream",
     "text": [
      "298\n",
      "320\n"
     ]
    }
   ],
   "source": [
    "stock_prices = [298, 305, 320, 301, 292]\n",
    "print(stock_prices[0])\n",
    "print(stock_prices[2])"
   ]
  },
  {
   "cell_type": "markdown",
   "id": "2973bb2a-71cf-44fe-8364-0b3b8fa14b98",
   "metadata": {},
   "source": [
    "Как числа (и их массивы) храняться в оперативной памяти. Для хранения массива в памяти необходимо выделить последовательность рядом стоящих ячеек. Если при добавлении нового элемента места недостаточно, приходится искать новое место в памяти.\n",
    "\n",
    "![](Screenshot_1.png)"
   ]
  },
  {
   "cell_type": "markdown",
   "id": "66045d72-a25f-4990-a3d7-a48cd7659b63",
   "metadata": {},
   "source": [
    "**Big O**\n",
    "\n",
    "<p>Lookup by index = O(1)</p>\n",
    "<p>Lookup by value = O(n)</p>\n",
    "<p>Array traversal = O(n)</p>\n",
    "<p>Array insertion = O(n)</p>\n",
    "<p>Array deletion = O(n)</p>\n"
   ]
  },
  {
   "cell_type": "code",
   "execution_count": 4,
   "id": "9254b8ff-19fe-47c9-9cd3-e44e62624070",
   "metadata": {},
   "outputs": [
    {
     "name": "stdout",
     "output_type": "stream",
     "text": [
      "1. 150\n",
      "2. 7150\n",
      "3. False\n",
      "4. [2200, 2350, 2600, 2130, 2190, 1980]\n",
      "5. 1930\n"
     ]
    }
   ],
   "source": [
    "## Exercises - Arrays ##\n",
    "expenses = [2200, 2350, 2600, 2130, 2190]\n",
    "\n",
    "# 1\n",
    "print(f\"1. {expenses[1] - expenses[0]}\")\n",
    "# 2\n",
    "print(f\"2. {sum(expenses[:3])}\")\n",
    "# 3\n",
    "print(f\"3. {True if 2000 in expenses else False}\")\n",
    "# 4\n",
    "expenses.append(1980)\n",
    "print(f\"4. {expenses}\")\n",
    "# 5\n",
    "expenses[3] -= 200\n",
    "print(f\"5. {expenses[3]}\")"
   ]
  },
  {
   "cell_type": "code",
   "execution_count": 11,
   "id": "ed01dc2d-76ed-4360-aad7-52b8ac7ebb2d",
   "metadata": {},
   "outputs": [
    {
     "name": "stdout",
     "output_type": "stream",
     "text": [
      "1. 5\n",
      "2. black panther\n",
      "3. ['spider man', 'thor', 'black panther', 'hulk', 'iron man', 'captain america']\n",
      "4. ['spider man', 'doctor strange', 'iron man', 'captain america']\n",
      "5. ['captain america', 'doctor strange', 'iron man', 'spider man']\n"
     ]
    }
   ],
   "source": [
    "heroes = ['spider man', 'thor', 'hulk', 'iron man', 'captain america']\n",
    "\n",
    "# 1\n",
    "print(f\"1. {len(heroes)}\")\n",
    "# 2\n",
    "heroes.append(\"black panther\")\n",
    "print(f\"2. {heroes[-1]}\")\n",
    "# 3\n",
    "mistake = heroes.pop()\n",
    "heroes.insert(2, mistake)\n",
    "print(f\"3. {heroes}\")\n",
    "# 4 -\n",
    "heroes[1:4]=['doctor strange']\n",
    "print(f\"4. {heroes}\")\n",
    "# 5\n",
    "heroes.sort()\n",
    "print(f\"5. {heroes}\")"
   ]
  },
  {
   "cell_type": "code",
   "execution_count": 18,
   "id": "3dfeb530-a10d-4c8e-87b3-cdfc8b6d2988",
   "metadata": {},
   "outputs": [
    {
     "name": "stdin",
     "output_type": "stream",
     "text": [
      "-> 13\n"
     ]
    },
    {
     "name": "stdout",
     "output_type": "stream",
     "text": [
      "[1, 3, 5, 7, 9, 11, 13]\n"
     ]
    }
   ],
   "source": [
    "print(list(range(1, int(input(\"->\"))+1, 2)))"
   ]
  },
  {
   "cell_type": "code",
   "execution_count": null,
   "id": "7cbb2f19-cedd-479d-addd-c73de5836ad7",
   "metadata": {},
   "outputs": [],
   "source": []
  }
 ],
 "metadata": {
  "kernelspec": {
   "display_name": "Python 3 (ipykernel)",
   "language": "python",
   "name": "python3"
  },
  "language_info": {
   "codemirror_mode": {
    "name": "ipython",
    "version": 3
   },
   "file_extension": ".py",
   "mimetype": "text/x-python",
   "name": "python",
   "nbconvert_exporter": "python",
   "pygments_lexer": "ipython3",
   "version": "3.11.7"
  }
 },
 "nbformat": 4,
 "nbformat_minor": 5
}
