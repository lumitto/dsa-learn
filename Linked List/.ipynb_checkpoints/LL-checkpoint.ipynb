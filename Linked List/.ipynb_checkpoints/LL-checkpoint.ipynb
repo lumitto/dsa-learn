{
 "cells": [
  {
   "cell_type": "markdown",
   "id": "1339cdba-308a-4923-be89-f9496289037e",
   "metadata": {},
   "source": [
    "# **Linked Lists**\n",
    "\n",
    "Значения хранятся в разных местах ОП, но они связаны дург с другом - каждый предыдущий указывает на локацию следующего. В то время как массивы хранят все элементы последовательно в одном месте в памяти.\n",
    "![](Screenshot_1.png)"
   ]
  },
  {
   "cell_type": "markdown",
   "id": "b09cad25-43e7-40e7-9378-d3da0bdd065d",
   "metadata": {},
   "source": [
    "**Вставление элемента в начало**\n",
    "\n",
    "Вставление элемента теперь происходит через изменение ссылок. В то вермя как в массиве приходится смещать все последующие элменты, чтобы освободить место для нового.\n",
    "![](Screenshot_2.png)"
   ]
  },
  {
   "cell_type": "markdown",
   "id": "fac45b71-3b91-4f2a-8965-8a2e4efbe81b",
   "metadata": {},
   "source": [
    "**Big O**\n",
    "\n",
    "Insert Element at beginning = O(1)\n",
    "\n",
    "Delete Element at beginning = O(1)\n",
    "\n",
    "Insert/Delete Element at the middle = O(n)\n",
    "\n",
    "Linked List Traversal = O(n)\n",
    "\n",
    "Accessing Element By Value = O(n)\n",
    "\n",
    "Сравнение сложностей СП с массивами\n",
    "![](Screenshot_4.png)"
   ]
  },
  {
   "cell_type": "markdown",
   "id": "83adcde8-abe7-4d91-b180-b44996b78efb",
   "metadata": {},
   "source": [
    "**Преимущества над массивами**\n",
    "\n",
    "1. Не нужно заранее выделять место в оперативной памяти.\n",
    "\n",
    "2. Вставка элемента проще"
   ]
  },
  {
   "cell_type": "code",
   "execution_count": 11,
   "id": "f6947272-b2ac-40d8-8fce-d25f51a75bb4",
   "metadata": {},
   "outputs": [],
   "source": [
    "class Node:\n",
    "    def __init__(self, data=None, next=None):\n",
    "        self.data = data\n",
    "        self.next = next\n",
    "\n",
    "class LinkedList:\n",
    "    def __init__(self):\n",
    "        self.head = None\n",
    "\n",
    "    def insert_at_beginning(self, data):  # O(1)\n",
    "        node = Node(data, self.head)\n",
    "        self.head = node\n",
    "\n",
    "    def insert_at_end(self, data):  # O(n)\n",
    "        if self.head is None:\n",
    "            self.head = Node(data)\n",
    "            return\n",
    "\n",
    "        itr = self.head\n",
    "        while itr.next:\n",
    "            itr = itr.next\n",
    "\n",
    "        itr.next = Node(data)\n",
    "\n",
    "    def insert_values(self, data_array):  # O(n^2)\n",
    "        self.head = None\n",
    "        for data in data_array:\n",
    "            self.insert_at_end(data)\n",
    "\n",
    "    def insert_at(self, index, data):\n",
    "        if not isinstance(index, int) or index < 0:\n",
    "            raise Exception(\"Invalid index\")\n",
    "        if index >= self.get_length():\n",
    "            raise Exception(\"List index out of range\")\n",
    "\n",
    "        if index == 0:\n",
    "            self.insert_at_beginning(data)\n",
    "\n",
    "        count = 0\n",
    "        itr = self.head\n",
    "        while itr:\n",
    "            if count == index - 1:\n",
    "                itr.next = Node(data, itr.next)\n",
    "                break\n",
    "            itr = itr.next\n",
    "            count += 1\n",
    "\n",
    "    def remove_at(self, index):  # O(n)\n",
    "        if not isinstance(index, int) or index < 0:\n",
    "            raise Exception(\"Invalid index\")\n",
    "        if index >= self.get_length():\n",
    "            raise Exception(\"List index out of range\")\n",
    "\n",
    "        if index == 0:\n",
    "            self.head = self.head.next\n",
    "            return\n",
    "\n",
    "        count = 0\n",
    "        itr = self.head\n",
    "        while itr:\n",
    "            if count == index - 1:\n",
    "                itr.next = itr.next.next\n",
    "                break\n",
    "            itr = itr.next\n",
    "            count += 1\n",
    "        \n",
    "\n",
    "    def get_length(self):  # O(n)\n",
    "        length = 0\n",
    "        itr = self.head\n",
    "        while itr:\n",
    "            length += 1\n",
    "            itr = itr.next\n",
    "            \n",
    "        return length\n",
    "\n",
    "    def print(self):  # O(n)\n",
    "        if self.head is None:\n",
    "            print(\"Empty\")\n",
    "            return\n",
    "\n",
    "        itr = self.head\n",
    "        result_str = \"\"\n",
    "        \n",
    "        while itr:\n",
    "            result_str += str(itr.data) + \"-->\"\n",
    "            itr = itr.next\n",
    "\n",
    "        print(result_str)"
   ]
  },
  {
   "cell_type": "code",
   "execution_count": 12,
   "id": "301f4667-9078-4039-8671-4ec55fc9e1f3",
   "metadata": {},
   "outputs": [
    {
     "name": "stdout",
     "output_type": "stream",
     "text": [
      "1-->2-->3-->4-->5-->6-->7-->8-->9-->10-->\n",
      "5-->1-->2-->3-->4-->5-->6-->7-->8-->9-->10-->\n"
     ]
    }
   ],
   "source": [
    "ll = LinkedList()\n",
    "nums = tuple(range(1, 11))\n",
    "ll.insert_values(nums)\n",
    "ll.print()\n",
    "ll.insert_at(0, 5)\n",
    "ll.print()"
   ]
  },
  {
   "cell_type": "code",
   "execution_count": null,
   "id": "35d405b4-80f4-43c4-98fc-3e9ea50143bc",
   "metadata": {},
   "outputs": [],
   "source": [
    "# codebasics LL 16:10"
   ]
  }
 ],
 "metadata": {
  "kernelspec": {
   "display_name": "Python 3 (ipykernel)",
   "language": "python",
   "name": "python3"
  },
  "language_info": {
   "codemirror_mode": {
    "name": "ipython",
    "version": 3
   },
   "file_extension": ".py",
   "mimetype": "text/x-python",
   "name": "python",
   "nbconvert_exporter": "python",
   "pygments_lexer": "ipython3",
   "version": "3.11.7"
  }
 },
 "nbformat": 4,
 "nbformat_minor": 5
}
