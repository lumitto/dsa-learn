{
 "cells": [
  {
   "cell_type": "code",
   "execution_count": 5,
   "id": "ce432906-8faf-4458-97bc-3700dee98b0a",
   "metadata": {},
   "outputs": [],
   "source": [
    "stock_prices = []\n",
    "with open(\"stock_prices.csv\") as file:\n",
    "    for line in file:\n",
    "        tokens = line.split(\",\")\n",
    "        day = tokens[0]\n",
    "        price = float(tokens[1])\n",
    "        stock_prices.append([day, price])"
   ]
  },
  {
   "cell_type": "code",
   "execution_count": 6,
   "id": "a92fd9b4-9010-471f-ae45-5884cb9e4c8a",
   "metadata": {},
   "outputs": [
    {
     "data": {
      "text/plain": [
       "[['march 6', 310.0],\n",
       " ['march 7', 340.0],\n",
       " ['march 8', 380.0],\n",
       " ['march 9', 302.0],\n",
       " ['march 10', 297.0],\n",
       " ['march 11', 323.0]]"
      ]
     },
     "execution_count": 6,
     "metadata": {},
     "output_type": "execute_result"
    }
   ],
   "source": [
    "stock_prices"
   ]
  },
  {
   "cell_type": "code",
   "execution_count": 7,
   "id": "23497cfc-395b-4714-9fd7-faa730631f53",
   "metadata": {},
   "outputs": [
    {
     "name": "stdout",
     "output_type": "stream",
     "text": [
      "302.0\n"
     ]
    }
   ],
   "source": [
    "for entry in stock_prices:\n",
    "    if entry[0] == \"march 9\":\n",
    "        print(entry[1])"
   ]
  },
  {
   "cell_type": "markdown",
   "id": "e16b8994-ea1a-4781-b48b-5eec132f37da",
   "metadata": {},
   "source": [
    "**Вышенаписанный способ - неэффективен. Сложность по времени - O(n)**\n",
    "\n",
    "Словарь позводяет делать это со сложностью O(1)"
   ]
  },
  {
   "cell_type": "code",
   "execution_count": 8,
   "id": "2be5f4db-170b-40a4-9295-a477857d7ec1",
   "metadata": {},
   "outputs": [],
   "source": [
    "stock_prices = {}\n",
    "with open(\"stock_prices.csv\") as file:\n",
    "    for line in file:\n",
    "        tokens = line.split(\",\")\n",
    "        day = tokens[0]\n",
    "        price = float(tokens[1])\n",
    "        stock_prices[day] = price"
   ]
  },
  {
   "cell_type": "code",
   "execution_count": 9,
   "id": "3ba3f466-fcc4-4f8c-8193-d8830ac2f2b1",
   "metadata": {},
   "outputs": [
    {
     "data": {
      "text/plain": [
       "{'march 6': 310.0,\n",
       " 'march 7': 340.0,\n",
       " 'march 8': 380.0,\n",
       " 'march 9': 302.0,\n",
       " 'march 10': 297.0,\n",
       " 'march 11': 323.0}"
      ]
     },
     "execution_count": 9,
     "metadata": {},
     "output_type": "execute_result"
    }
   ],
   "source": [
    "stock_prices"
   ]
  },
  {
   "cell_type": "code",
   "execution_count": 10,
   "id": "4147c096-3fb7-4eae-a2ee-6ee67824723e",
   "metadata": {},
   "outputs": [
    {
     "data": {
      "text/plain": [
       "302.0"
      ]
     },
     "execution_count": 10,
     "metadata": {},
     "output_type": "execute_result"
    }
   ],
   "source": [
    "stock_prices[\"march 9\"]"
   ]
  },
  {
   "cell_type": "markdown",
   "id": "1918a417-2728-42e6-899f-7f6e48a68039",
   "metadata": {},
   "source": [
    "Словарь - имлементация Hash Table/Map. Посмотрим его внутреннее устройство"
   ]
  },
  {
   "cell_type": "markdown",
   "id": "a52cdec5-c78c-4bfc-8637-c50921dafd59",
   "metadata": {},
   "source": [
    "![](Screenshot_1.png)\n",
    "\n",
    "Сначала она аллоцирует массив в RAM -> Потом берёт сначала \"march 6\" -> Каким-то образом он замаппит(привяжет) к определённому элементу массива. И чтобы получить индекс этого элемента, используется Hash Function(Конвертирует строковый ключ в индекс в массиве). \n",
    "\n",
    "![](Screenshot_2.png)\n",
    "\n",
    "Таким же образом можно применить Hash Function ко всем остальным ключам."
   ]
  },
  {
   "cell_type": "markdown",
   "id": "66a58674-82cc-415f-baf0-b071f4a17d25",
   "metadata": {},
   "source": [
    "**Пример Hash функции**\n",
    "\n",
    "![](Screenshot_3.png)\n",
    "\n",
    "Здесь используется ASCII код. Все ASCII идексы символов строки складываются. После берётся остаток от деления суммы на длину выделенного массива. В данном случае - это 609 % 10 = 9"
   ]
  },
  {
   "cell_type": "markdown",
   "id": "3f804a2a-5d2d-41e4-b7e1-3af6c6c28740",
   "metadata": {},
   "source": [
    "**Complexities**\n",
    "\n",
    "Lookup by key - O(1) on average\n",
    "\n",
    "Insertion/Deletion - O(1) on average"
   ]
  },
  {
   "cell_type": "code",
   "execution_count": 11,
   "id": "02c25478-cc9b-4de8-b6c7-0c25846fca58",
   "metadata": {},
   "outputs": [],
   "source": [
    "# Hash Table - Data Structures & Algorithms Tutorials In Python #5 | 7:48"
   ]
  },
  {
   "cell_type": "code",
   "execution_count": null,
   "id": "80321546-89b9-4bdf-a514-992ebb21b7f1",
   "metadata": {},
   "outputs": [],
   "source": []
  }
 ],
 "metadata": {
  "kernelspec": {
   "display_name": "Python 3 (ipykernel)",
   "language": "python",
   "name": "python3"
  },
  "language_info": {
   "codemirror_mode": {
    "name": "ipython",
    "version": 3
   },
   "file_extension": ".py",
   "mimetype": "text/x-python",
   "name": "python",
   "nbconvert_exporter": "python",
   "pygments_lexer": "ipython3",
   "version": "3.11.7"
  }
 },
 "nbformat": 4,
 "nbformat_minor": 5
}
