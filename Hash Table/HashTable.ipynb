{
 "cells": [
  {
   "cell_type": "code",
   "execution_count": 1,
   "id": "ce432906-8faf-4458-97bc-3700dee98b0a",
   "metadata": {},
   "outputs": [],
   "source": [
    "stock_prices = []\n",
    "with open(\"stock_prices.csv\") as file:\n",
    "    for line in file:\n",
    "        tokens = line.split(\",\")\n",
    "        day = tokens[0]\n",
    "        price = float(tokens[1])\n",
    "        stock_prices.append([day, price])"
   ]
  },
  {
   "cell_type": "code",
   "execution_count": 2,
   "id": "a92fd9b4-9010-471f-ae45-5884cb9e4c8a",
   "metadata": {},
   "outputs": [
    {
     "data": {
      "text/plain": [
       "[['march 6', 310.0],\n",
       " ['march 7', 340.0],\n",
       " ['march 8', 380.0],\n",
       " ['march 9', 302.0],\n",
       " ['march 10', 297.0],\n",
       " ['march 11', 323.0]]"
      ]
     },
     "execution_count": 2,
     "metadata": {},
     "output_type": "execute_result"
    }
   ],
   "source": [
    "stock_prices"
   ]
  },
  {
   "cell_type": "code",
   "execution_count": 3,
   "id": "23497cfc-395b-4714-9fd7-faa730631f53",
   "metadata": {},
   "outputs": [
    {
     "name": "stdout",
     "output_type": "stream",
     "text": [
      "302.0\n"
     ]
    }
   ],
   "source": [
    "for entry in stock_prices:\n",
    "    if entry[0] == \"march 9\":\n",
    "        print(entry[1])"
   ]
  },
  {
   "cell_type": "markdown",
   "id": "e16b8994-ea1a-4781-b48b-5eec132f37da",
   "metadata": {},
   "source": [
    "**Вышенаписанный способ - неэффективен. Сложность по времени - O(n)**\n",
    "\n",
    "Словарь позводяет делать это со сложностью O(1)"
   ]
  },
  {
   "cell_type": "code",
   "execution_count": 4,
   "id": "2be5f4db-170b-40a4-9295-a477857d7ec1",
   "metadata": {},
   "outputs": [],
   "source": [
    "stock_prices = {}\n",
    "with open(\"stock_prices.csv\") as file:\n",
    "    for line in file:\n",
    "        tokens = line.split(\",\")\n",
    "        day = tokens[0]\n",
    "        price = float(tokens[1])\n",
    "        stock_prices[day] = price"
   ]
  },
  {
   "cell_type": "code",
   "execution_count": 5,
   "id": "3ba3f466-fcc4-4f8c-8193-d8830ac2f2b1",
   "metadata": {},
   "outputs": [
    {
     "data": {
      "text/plain": [
       "{'march 6': 310.0,\n",
       " 'march 7': 340.0,\n",
       " 'march 8': 380.0,\n",
       " 'march 9': 302.0,\n",
       " 'march 10': 297.0,\n",
       " 'march 11': 323.0}"
      ]
     },
     "execution_count": 5,
     "metadata": {},
     "output_type": "execute_result"
    }
   ],
   "source": [
    "stock_prices"
   ]
  },
  {
   "cell_type": "code",
   "execution_count": 6,
   "id": "4147c096-3fb7-4eae-a2ee-6ee67824723e",
   "metadata": {},
   "outputs": [
    {
     "data": {
      "text/plain": [
       "302.0"
      ]
     },
     "execution_count": 6,
     "metadata": {},
     "output_type": "execute_result"
    }
   ],
   "source": [
    "stock_prices[\"march 9\"]"
   ]
  },
  {
   "cell_type": "markdown",
   "id": "1918a417-2728-42e6-899f-7f6e48a68039",
   "metadata": {},
   "source": [
    "Словарь - имлементация Hash Table/Map. Посмотрим его внутреннее устройство"
   ]
  },
  {
   "cell_type": "markdown",
   "id": "a52cdec5-c78c-4bfc-8637-c50921dafd59",
   "metadata": {},
   "source": [
    "![](Screenshot_1.png)\n",
    "\n",
    "Сначала она аллоцирует массив в RAM -> Потом берёт сначала \"march 6\" -> Каким-то образом он замаппит(привяжет) к определённому элементу массива. И чтобы получить индекс этого элемента, используется Hash Function(Конвертирует строковый ключ в индекс в массиве). \n",
    "\n",
    "![](Screenshot_2.png)\n",
    "\n",
    "Таким же образом можно применить Hash Function ко всем остальным ключам."
   ]
  },
  {
   "cell_type": "markdown",
   "id": "66a58674-82cc-415f-baf0-b071f4a17d25",
   "metadata": {},
   "source": [
    "**Пример Hash функции**\n",
    "\n",
    "![](Screenshot_3.png)\n",
    "\n",
    "Здесь используется ASCII код. Все ASCII идексы символов строки складываются. После берётся остаток от деления суммы на длину выделенного массива. В данном случае - это 609 % 10 = 9"
   ]
  },
  {
   "cell_type": "markdown",
   "id": "3f804a2a-5d2d-41e4-b7e1-3af6c6c28740",
   "metadata": {},
   "source": [
    "**Complexities**\n",
    "\n",
    "Lookup by key - O(1) on average\n",
    "\n",
    "Insertion/Deletion - O(1) on average"
   ]
  },
  {
   "cell_type": "code",
   "execution_count": 10,
   "id": "02c25478-cc9b-4de8-b6c7-0c25846fca58",
   "metadata": {},
   "outputs": [],
   "source": [
    "def get_hash(key):\n",
    "    h = 0\n",
    "    for char in key:\n",
    "        h += ord(char)\n",
    "    return h % 100"
   ]
  },
  {
   "cell_type": "code",
   "execution_count": 12,
   "id": "80321546-89b9-4bdf-a514-992ebb21b7f1",
   "metadata": {},
   "outputs": [
    {
     "data": {
      "text/plain": [
       "9"
      ]
     },
     "execution_count": 12,
     "metadata": {},
     "output_type": "execute_result"
    }
   ],
   "source": [
    "get_hash(\"march 6\")"
   ]
  },
  {
   "cell_type": "code",
   "execution_count": 64,
   "id": "f93c61cd-2679-4da6-9891-9516ed834ccf",
   "metadata": {},
   "outputs": [],
   "source": [
    "class HashTable:\n",
    "    # k - length of the key\n",
    "    def __init__(self):  # O(n) -> O(1) when array length is short and static\n",
    "        self.MAX = 10\n",
    "        self.arr = [[] for i in range(self.MAX)]\n",
    "\n",
    "    def __setitem__(self, key, value):  # O(k) -> O(1) when key is short\n",
    "        hash = self.get_hash(key)\n",
    "\n",
    "        # Chaining\n",
    "        found = False\n",
    "        for idx, element in enumerate(self.arr[hash]):\n",
    "            if len(element) == 2 and element[0] == key:\n",
    "                self.arr[hash][idx] = (key, value)\n",
    "                found = True\n",
    "                break\n",
    "        if not found:\n",
    "            self.arr[hash].append((key, value))\n",
    "\n",
    "    def __delitem__(self, key):  # O(k) -> O(1) when key is short\n",
    "        self.arr[self.get_hash(key)] = None\n",
    "\n",
    "    def __getitem__(self, key):  # O(k) -> O(1) when key is short\n",
    "        return self.arr[self.get_hash(key)]\n",
    "\n",
    "    def get_hash(self, key):  # O(k)\n",
    "        hash = 0\n",
    "        for char in key:\n",
    "            hash += ord(char)\n",
    "        return hash % self.MAX"
   ]
  },
  {
   "cell_type": "code",
   "execution_count": 71,
   "id": "c0e92da5-1b1a-43d1-9afe-eb86fecd6fbd",
   "metadata": {},
   "outputs": [],
   "source": [
    "hash_table = HashTable()\n",
    "hash_table['march 6'] = 310\n",
    "hash_table['march 6'] = 120\n",
    "hash_table['march 6'] = 154\n",
    "hash_table['march 17'] = 120\n",
    "hash_table['march 2'] = 120\n",
    "hash_table['march 4'] = 193"
   ]
  },
  {
   "cell_type": "code",
   "execution_count": 72,
   "id": "4a3995e3-cb0e-4601-8679-7150282aa00b",
   "metadata": {},
   "outputs": [
    {
     "name": "stdout",
     "output_type": "stream",
     "text": [
      "[('march 6', 154), ('march 17', 120)]\n",
      "[('march 2', 120)]\n",
      "[('march 4', 193)]\n"
     ]
    }
   ],
   "source": [
    "print(hash_table['march 6'])\n",
    "print(hash_table['march 2'])\n",
    "print(hash_table['march 4'])"
   ]
  },
  {
   "cell_type": "code",
   "execution_count": 73,
   "id": "751463dc-b32c-4a53-9f28-fd072643ab23",
   "metadata": {},
   "outputs": [
    {
     "data": {
      "text/plain": [
       "[[],\n",
       " [],\n",
       " [],\n",
       " [],\n",
       " [],\n",
       " [('march 2', 120)],\n",
       " [],\n",
       " [('march 4', 193)],\n",
       " [],\n",
       " [('march 6', 154), ('march 17', 120)]]"
      ]
     },
     "execution_count": 73,
     "metadata": {},
     "output_type": "execute_result"
    }
   ],
   "source": [
    "hash_table.arr[:10]"
   ]
  },
  {
   "cell_type": "code",
   "execution_count": 74,
   "id": "b3d87412-d1e8-46ce-a96c-b5a5764e10b2",
   "metadata": {},
   "outputs": [
    {
     "data": {
      "text/plain": [
       "[[], [], [], [], [], [('march 2', 120)], [], [('march 4', 193)], [], None]"
      ]
     },
     "execution_count": 74,
     "metadata": {},
     "output_type": "execute_result"
    }
   ],
   "source": [
    "del hash_table['march 6']\n",
    "hash_table.arr[:10]"
   ]
  },
  {
   "cell_type": "markdown",
   "id": "f57e696d-50ce-4dc2-b97c-c0021504e6c5",
   "metadata": {},
   "source": [
    "**Обработка Коллизий**\n",
    "\n",
    "## Chaining\n",
    "\n",
    "Всякий элемент хэш-таблицы (её массива) есть ссылка на отдельный связный список, в который добавляются новые элементы при коллизии.\n",
    "\n",
    "![](Screenshot_4.png)\n",
    "\n",
    "В таком случае поиск элемента:\n",
    "\n",
    "O(1) on avg, O(n) in worst case\n",
    "\n",
    "## Linear Probing\n",
    "\n",
    "Элементы всё также хранят значения, но в случае коллизии, будет пробироваться следующий индекс до тех пор, пока не найдётся пустой. Если достигнут конец массива, пробирование продолжается с его начального элемента.\n",
    "\n",
    "![](Screenshot_4.png)\n"
   ]
  },
  {
   "cell_type": "code",
   "execution_count": 56,
   "id": "98c1c652-71ae-4432-954e-be1f7d08a743",
   "metadata": {},
   "outputs": [],
   "source": [
    "collisions = HashTable()\n",
    "collisions[\"march 6\"] = 120\n",
    "collisions[\"march 17\"] = 986"
   ]
  },
  {
   "cell_type": "code",
   "execution_count": 57,
   "id": "258c40aa-e08a-4aea-988f-bdc02cafc7a9",
   "metadata": {},
   "outputs": [
    {
     "name": "stdout",
     "output_type": "stream",
     "text": [
      "9\n",
      "9\n"
     ]
    }
   ],
   "source": [
    "print(collisions.get_hash(\"march 6\"))\n",
    "print(collisions.get_hash(\"march 17\"))"
   ]
  },
  {
   "cell_type": "code",
   "execution_count": 59,
   "id": "0c5e6a10-f3dd-46bf-907a-0dc6b0d2e1b6",
   "metadata": {},
   "outputs": [
    {
     "data": {
      "text/plain": [
       "986"
      ]
     },
     "execution_count": 59,
     "metadata": {},
     "output_type": "execute_result"
    }
   ],
   "source": [
    "collisions[\"march 6\"]"
   ]
  },
  {
   "cell_type": "code",
   "execution_count": null,
   "id": "9521848a-f9fd-4b16-affa-d255246e4116",
   "metadata": {},
   "outputs": [],
   "source": [
    "# Collision Handling In Hash Table - Data Structures & Algorithms Tutorials In Python -> 10:16 \n",
    "# Modifying __delitem__, __getitem__ methods"
   ]
  }
 ],
 "metadata": {
  "kernelspec": {
   "display_name": "Python 3 (ipykernel)",
   "language": "python",
   "name": "python3"
  },
  "language_info": {
   "codemirror_mode": {
    "name": "ipython",
    "version": 3
   },
   "file_extension": ".py",
   "mimetype": "text/x-python",
   "name": "python",
   "nbconvert_exporter": "python",
   "pygments_lexer": "ipython3",
   "version": "3.11.7"
  }
 },
 "nbformat": 4,
 "nbformat_minor": 5
}
